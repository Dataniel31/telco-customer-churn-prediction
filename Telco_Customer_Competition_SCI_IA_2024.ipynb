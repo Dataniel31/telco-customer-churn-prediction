{
  "nbformat": 4,
  "nbformat_minor": 0,
  "metadata": {
    "colab": {
      "provenance": [],
      "authorship_tag": "ABX9TyM+wn+npmqsP6OE82DuNZ00",
      "include_colab_link": true
    },
    "kernelspec": {
      "name": "python3",
      "display_name": "Python 3"
    },
    "language_info": {
      "name": "python"
    }
  },
  "cells": [
    {
      "cell_type": "markdown",
      "metadata": {
        "id": "view-in-github",
        "colab_type": "text"
      },
      "source": [
        "<a href=\"https://colab.research.google.com/github/Dataniel31/telco-customer-churn-prediction/blob/main/Telco_Customer_Competition_SCI_IA_2024.ipynb\" target=\"_parent\"><img src=\"https://colab.research.google.com/assets/colab-badge.svg\" alt=\"Open In Colab\"/></a>"
      ]
    },
    {
      "cell_type": "markdown",
      "source": [
        "# Telco Customer Competition - SCI IA 2024\n",
        "\n",
        "## 1. Introducción\n",
        "\n",
        "### 1.1 Descripción del Proyecto\n",
        "\n",
        "El objetivo de este proyecto es predecir la cancelación de clientes para una empresa de telecomunicaciones. Utilizamos un modelo de regresión logística para identificar clientes propensos a cancelar sus servicios basándonos en datos históricos.\n",
        "\n",
        "### 1.2 Dataset\n",
        "\n",
        "- **Train Dataset:** `train.csv` con datos sobre clientes y su historial de cancelación.\n",
        "- **Test Dataset:** `test.csv` para hacer predicciones y evaluar el modelo."
      ],
      "metadata": {
        "id": "HEfP_7BBOAlL"
      }
    },
    {
      "cell_type": "code",
      "source": [
        "!wget https://raw.githubusercontent.com/Dataniel31/telco-customer-churn-prediction/main/train.csv\n",
        "!wget https://raw.githubusercontent.com/Dataniel31/telco-customer-churn-prediction/main/test.csv\n"
      ],
      "metadata": {
        "colab": {
          "base_uri": "https://localhost:8080/"
        },
        "id": "5VLWJIlfTTQb",
        "outputId": "620ff8e5-a5eb-40a1-95f4-a3cf9d6c5278"
      },
      "execution_count": 36,
      "outputs": [
        {
          "output_type": "stream",
          "name": "stdout",
          "text": [
            "--2024-08-30 03:30:23--  https://raw.githubusercontent.com/Dataniel31/telco-customer-churn-prediction/main/train.csv\n",
            "Resolving raw.githubusercontent.com (raw.githubusercontent.com)... 185.199.110.133, 185.199.109.133, 185.199.108.133, ...\n",
            "Connecting to raw.githubusercontent.com (raw.githubusercontent.com)|185.199.110.133|:443... connected.\n",
            "HTTP request sent, awaiting response... 200 OK\n",
            "Length: 658019 (643K) [text/plain]\n",
            "Saving to: ‘train.csv’\n",
            "\n",
            "train.csv           100%[===================>] 642.60K  --.-KB/s    in 0.05s   \n",
            "\n",
            "2024-08-30 03:30:24 (13.0 MB/s) - ‘train.csv’ saved [658019/658019]\n",
            "\n",
            "--2024-08-30 03:30:24--  https://raw.githubusercontent.com/Dataniel31/telco-customer-churn-prediction/main/test.csv\n",
            "Resolving raw.githubusercontent.com (raw.githubusercontent.com)... 185.199.108.133, 185.199.109.133, 185.199.110.133, ...\n",
            "Connecting to raw.githubusercontent.com (raw.githubusercontent.com)|185.199.108.133|:443... connected.\n",
            "HTTP request sent, awaiting response... 200 OK\n",
            "Length: 275229 (269K) [text/plain]\n",
            "Saving to: ‘test.csv’\n",
            "\n",
            "test.csv            100%[===================>] 268.78K  --.-KB/s    in 0.04s   \n",
            "\n",
            "2024-08-30 03:30:24 (7.07 MB/s) - ‘test.csv’ saved [275229/275229]\n",
            "\n"
          ]
        }
      ]
    },
    {
      "cell_type": "markdown",
      "source": [
        "## 2. Exploración de Datos\n",
        "\n",
        "A continuación, cargamos y exploramos los datos del conjunto de entrenamiento para entender su estructura y preparar los datos para el modelado.\n",
        "\n"
      ],
      "metadata": {
        "id": "zybWMEYdRYTF"
      }
    },
    {
      "cell_type": "code",
      "execution_count": 37,
      "metadata": {
        "id": "m_YeLNIHQls3"
      },
      "outputs": [],
      "source": [
        "import pandas as pd\n",
        "import numpy as np\n",
        "import matplotlib.pyplot as plt\n",
        "import seaborn as sns\n",
        "from sklearn.linear_model import LogisticRegression\n",
        "from sklearn.metrics import classification_report, confusion_matrix\n",
        "from sklearn.model_selection import train_test_split\n",
        "from sklearn.preprocessing import StandardScaler\n",
        "from imblearn.over_sampling import SMOTE\n"
      ]
    },
    {
      "cell_type": "code",
      "source": [
        "# Cargamos el dataset de entrenamiento\n",
        "train_df = pd.read_csv('train.csv')\n"
      ],
      "metadata": {
        "id": "tPPWGmMvRWF5"
      },
      "execution_count": 38,
      "outputs": []
    },
    {
      "cell_type": "code",
      "source": [
        "#Mostar las priemras filas del dataset\n",
        "train_df.head()"
      ],
      "metadata": {
        "colab": {
          "base_uri": "https://localhost:8080/",
          "height": 342
        },
        "id": "CvIgPrORWTd9",
        "outputId": "63ffc594-0739-435c-b641-78cd2f580158"
      },
      "execution_count": 39,
      "outputs": [
        {
          "output_type": "execute_result",
          "data": {
            "text/plain": [
              "     ID  gender  SeniorCitizen Partner Dependents  tenure PhoneService  \\\n",
              "0  5726  Female              0      No         No     5.0          Yes   \n",
              "1  5510  Female              1      No         No     3.0          Yes   \n",
              "2  1272  Female              0     Yes         No     3.0          Yes   \n",
              "3  3577  Female              0      No         No    60.0          Yes   \n",
              "4  6546  Female              0      No         No    12.0          Yes   \n",
              "\n",
              "  MultipleLines InternetService OnlineSecurity  ... DeviceProtection  \\\n",
              "0            No     Fiber optic             No  ...               No   \n",
              "1            No     Fiber optic             No  ...              Yes   \n",
              "2           Yes     Fiber optic             No  ...               No   \n",
              "3           Yes             DSL             No  ...              Yes   \n",
              "4            No     Fiber optic            Yes  ...               No   \n",
              "\n",
              "  TechSupport StreamingTV StreamingMovies        Contract PaperlessBilling  \\\n",
              "0          No         Yes              No  Month-to-month               No   \n",
              "1          No         Yes              No  Month-to-month              Yes   \n",
              "2          No          No              No  Month-to-month              Yes   \n",
              "3         Yes         Yes             Yes        One year               No   \n",
              "4         Yes         Yes             Yes  Month-to-month              Yes   \n",
              "\n",
              "               PaymentMethod MonthlyCharges  TotalCharges  Churn  \n",
              "0           Electronic check          80.20        384.25     No  \n",
              "1           Electronic check          86.85        220.95    Yes  \n",
              "2    Credit card (automatic)          75.15        216.75    Yes  \n",
              "3    Credit card (automatic)          80.55       4847.05     No  \n",
              "4  Bank transfer (automatic)          98.90       1120.95    Yes  \n",
              "\n",
              "[5 rows x 21 columns]"
            ],
            "text/html": [
              "\n",
              "  <div id=\"df-7083c699-ad14-4671-9ab1-3507c999e662\" class=\"colab-df-container\">\n",
              "    <div>\n",
              "<style scoped>\n",
              "    .dataframe tbody tr th:only-of-type {\n",
              "        vertical-align: middle;\n",
              "    }\n",
              "\n",
              "    .dataframe tbody tr th {\n",
              "        vertical-align: top;\n",
              "    }\n",
              "\n",
              "    .dataframe thead th {\n",
              "        text-align: right;\n",
              "    }\n",
              "</style>\n",
              "<table border=\"1\" class=\"dataframe\">\n",
              "  <thead>\n",
              "    <tr style=\"text-align: right;\">\n",
              "      <th></th>\n",
              "      <th>ID</th>\n",
              "      <th>gender</th>\n",
              "      <th>SeniorCitizen</th>\n",
              "      <th>Partner</th>\n",
              "      <th>Dependents</th>\n",
              "      <th>tenure</th>\n",
              "      <th>PhoneService</th>\n",
              "      <th>MultipleLines</th>\n",
              "      <th>InternetService</th>\n",
              "      <th>OnlineSecurity</th>\n",
              "      <th>...</th>\n",
              "      <th>DeviceProtection</th>\n",
              "      <th>TechSupport</th>\n",
              "      <th>StreamingTV</th>\n",
              "      <th>StreamingMovies</th>\n",
              "      <th>Contract</th>\n",
              "      <th>PaperlessBilling</th>\n",
              "      <th>PaymentMethod</th>\n",
              "      <th>MonthlyCharges</th>\n",
              "      <th>TotalCharges</th>\n",
              "      <th>Churn</th>\n",
              "    </tr>\n",
              "  </thead>\n",
              "  <tbody>\n",
              "    <tr>\n",
              "      <th>0</th>\n",
              "      <td>5726</td>\n",
              "      <td>Female</td>\n",
              "      <td>0</td>\n",
              "      <td>No</td>\n",
              "      <td>No</td>\n",
              "      <td>5.0</td>\n",
              "      <td>Yes</td>\n",
              "      <td>No</td>\n",
              "      <td>Fiber optic</td>\n",
              "      <td>No</td>\n",
              "      <td>...</td>\n",
              "      <td>No</td>\n",
              "      <td>No</td>\n",
              "      <td>Yes</td>\n",
              "      <td>No</td>\n",
              "      <td>Month-to-month</td>\n",
              "      <td>No</td>\n",
              "      <td>Electronic check</td>\n",
              "      <td>80.20</td>\n",
              "      <td>384.25</td>\n",
              "      <td>No</td>\n",
              "    </tr>\n",
              "    <tr>\n",
              "      <th>1</th>\n",
              "      <td>5510</td>\n",
              "      <td>Female</td>\n",
              "      <td>1</td>\n",
              "      <td>No</td>\n",
              "      <td>No</td>\n",
              "      <td>3.0</td>\n",
              "      <td>Yes</td>\n",
              "      <td>No</td>\n",
              "      <td>Fiber optic</td>\n",
              "      <td>No</td>\n",
              "      <td>...</td>\n",
              "      <td>Yes</td>\n",
              "      <td>No</td>\n",
              "      <td>Yes</td>\n",
              "      <td>No</td>\n",
              "      <td>Month-to-month</td>\n",
              "      <td>Yes</td>\n",
              "      <td>Electronic check</td>\n",
              "      <td>86.85</td>\n",
              "      <td>220.95</td>\n",
              "      <td>Yes</td>\n",
              "    </tr>\n",
              "    <tr>\n",
              "      <th>2</th>\n",
              "      <td>1272</td>\n",
              "      <td>Female</td>\n",
              "      <td>0</td>\n",
              "      <td>Yes</td>\n",
              "      <td>No</td>\n",
              "      <td>3.0</td>\n",
              "      <td>Yes</td>\n",
              "      <td>Yes</td>\n",
              "      <td>Fiber optic</td>\n",
              "      <td>No</td>\n",
              "      <td>...</td>\n",
              "      <td>No</td>\n",
              "      <td>No</td>\n",
              "      <td>No</td>\n",
              "      <td>No</td>\n",
              "      <td>Month-to-month</td>\n",
              "      <td>Yes</td>\n",
              "      <td>Credit card (automatic)</td>\n",
              "      <td>75.15</td>\n",
              "      <td>216.75</td>\n",
              "      <td>Yes</td>\n",
              "    </tr>\n",
              "    <tr>\n",
              "      <th>3</th>\n",
              "      <td>3577</td>\n",
              "      <td>Female</td>\n",
              "      <td>0</td>\n",
              "      <td>No</td>\n",
              "      <td>No</td>\n",
              "      <td>60.0</td>\n",
              "      <td>Yes</td>\n",
              "      <td>Yes</td>\n",
              "      <td>DSL</td>\n",
              "      <td>No</td>\n",
              "      <td>...</td>\n",
              "      <td>Yes</td>\n",
              "      <td>Yes</td>\n",
              "      <td>Yes</td>\n",
              "      <td>Yes</td>\n",
              "      <td>One year</td>\n",
              "      <td>No</td>\n",
              "      <td>Credit card (automatic)</td>\n",
              "      <td>80.55</td>\n",
              "      <td>4847.05</td>\n",
              "      <td>No</td>\n",
              "    </tr>\n",
              "    <tr>\n",
              "      <th>4</th>\n",
              "      <td>6546</td>\n",
              "      <td>Female</td>\n",
              "      <td>0</td>\n",
              "      <td>No</td>\n",
              "      <td>No</td>\n",
              "      <td>12.0</td>\n",
              "      <td>Yes</td>\n",
              "      <td>No</td>\n",
              "      <td>Fiber optic</td>\n",
              "      <td>Yes</td>\n",
              "      <td>...</td>\n",
              "      <td>No</td>\n",
              "      <td>Yes</td>\n",
              "      <td>Yes</td>\n",
              "      <td>Yes</td>\n",
              "      <td>Month-to-month</td>\n",
              "      <td>Yes</td>\n",
              "      <td>Bank transfer (automatic)</td>\n",
              "      <td>98.90</td>\n",
              "      <td>1120.95</td>\n",
              "      <td>Yes</td>\n",
              "    </tr>\n",
              "  </tbody>\n",
              "</table>\n",
              "<p>5 rows × 21 columns</p>\n",
              "</div>\n",
              "    <div class=\"colab-df-buttons\">\n",
              "\n",
              "  <div class=\"colab-df-container\">\n",
              "    <button class=\"colab-df-convert\" onclick=\"convertToInteractive('df-7083c699-ad14-4671-9ab1-3507c999e662')\"\n",
              "            title=\"Convert this dataframe to an interactive table.\"\n",
              "            style=\"display:none;\">\n",
              "\n",
              "  <svg xmlns=\"http://www.w3.org/2000/svg\" height=\"24px\" viewBox=\"0 -960 960 960\">\n",
              "    <path d=\"M120-120v-720h720v720H120Zm60-500h600v-160H180v160Zm220 220h160v-160H400v160Zm0 220h160v-160H400v160ZM180-400h160v-160H180v160Zm440 0h160v-160H620v160ZM180-180h160v-160H180v160Zm440 0h160v-160H620v160Z\"/>\n",
              "  </svg>\n",
              "    </button>\n",
              "\n",
              "  <style>\n",
              "    .colab-df-container {\n",
              "      display:flex;\n",
              "      gap: 12px;\n",
              "    }\n",
              "\n",
              "    .colab-df-convert {\n",
              "      background-color: #E8F0FE;\n",
              "      border: none;\n",
              "      border-radius: 50%;\n",
              "      cursor: pointer;\n",
              "      display: none;\n",
              "      fill: #1967D2;\n",
              "      height: 32px;\n",
              "      padding: 0 0 0 0;\n",
              "      width: 32px;\n",
              "    }\n",
              "\n",
              "    .colab-df-convert:hover {\n",
              "      background-color: #E2EBFA;\n",
              "      box-shadow: 0px 1px 2px rgba(60, 64, 67, 0.3), 0px 1px 3px 1px rgba(60, 64, 67, 0.15);\n",
              "      fill: #174EA6;\n",
              "    }\n",
              "\n",
              "    .colab-df-buttons div {\n",
              "      margin-bottom: 4px;\n",
              "    }\n",
              "\n",
              "    [theme=dark] .colab-df-convert {\n",
              "      background-color: #3B4455;\n",
              "      fill: #D2E3FC;\n",
              "    }\n",
              "\n",
              "    [theme=dark] .colab-df-convert:hover {\n",
              "      background-color: #434B5C;\n",
              "      box-shadow: 0px 1px 3px 1px rgba(0, 0, 0, 0.15);\n",
              "      filter: drop-shadow(0px 1px 2px rgba(0, 0, 0, 0.3));\n",
              "      fill: #FFFFFF;\n",
              "    }\n",
              "  </style>\n",
              "\n",
              "    <script>\n",
              "      const buttonEl =\n",
              "        document.querySelector('#df-7083c699-ad14-4671-9ab1-3507c999e662 button.colab-df-convert');\n",
              "      buttonEl.style.display =\n",
              "        google.colab.kernel.accessAllowed ? 'block' : 'none';\n",
              "\n",
              "      async function convertToInteractive(key) {\n",
              "        const element = document.querySelector('#df-7083c699-ad14-4671-9ab1-3507c999e662');\n",
              "        const dataTable =\n",
              "          await google.colab.kernel.invokeFunction('convertToInteractive',\n",
              "                                                    [key], {});\n",
              "        if (!dataTable) return;\n",
              "\n",
              "        const docLinkHtml = 'Like what you see? Visit the ' +\n",
              "          '<a target=\"_blank\" href=https://colab.research.google.com/notebooks/data_table.ipynb>data table notebook</a>'\n",
              "          + ' to learn more about interactive tables.';\n",
              "        element.innerHTML = '';\n",
              "        dataTable['output_type'] = 'display_data';\n",
              "        await google.colab.output.renderOutput(dataTable, element);\n",
              "        const docLink = document.createElement('div');\n",
              "        docLink.innerHTML = docLinkHtml;\n",
              "        element.appendChild(docLink);\n",
              "      }\n",
              "    </script>\n",
              "  </div>\n",
              "\n",
              "\n",
              "<div id=\"df-7067367e-0150-4a68-94bf-3fba95342b39\">\n",
              "  <button class=\"colab-df-quickchart\" onclick=\"quickchart('df-7067367e-0150-4a68-94bf-3fba95342b39')\"\n",
              "            title=\"Suggest charts\"\n",
              "            style=\"display:none;\">\n",
              "\n",
              "<svg xmlns=\"http://www.w3.org/2000/svg\" height=\"24px\"viewBox=\"0 0 24 24\"\n",
              "     width=\"24px\">\n",
              "    <g>\n",
              "        <path d=\"M19 3H5c-1.1 0-2 .9-2 2v14c0 1.1.9 2 2 2h14c1.1 0 2-.9 2-2V5c0-1.1-.9-2-2-2zM9 17H7v-7h2v7zm4 0h-2V7h2v10zm4 0h-2v-4h2v4z\"/>\n",
              "    </g>\n",
              "</svg>\n",
              "  </button>\n",
              "\n",
              "<style>\n",
              "  .colab-df-quickchart {\n",
              "      --bg-color: #E8F0FE;\n",
              "      --fill-color: #1967D2;\n",
              "      --hover-bg-color: #E2EBFA;\n",
              "      --hover-fill-color: #174EA6;\n",
              "      --disabled-fill-color: #AAA;\n",
              "      --disabled-bg-color: #DDD;\n",
              "  }\n",
              "\n",
              "  [theme=dark] .colab-df-quickchart {\n",
              "      --bg-color: #3B4455;\n",
              "      --fill-color: #D2E3FC;\n",
              "      --hover-bg-color: #434B5C;\n",
              "      --hover-fill-color: #FFFFFF;\n",
              "      --disabled-bg-color: #3B4455;\n",
              "      --disabled-fill-color: #666;\n",
              "  }\n",
              "\n",
              "  .colab-df-quickchart {\n",
              "    background-color: var(--bg-color);\n",
              "    border: none;\n",
              "    border-radius: 50%;\n",
              "    cursor: pointer;\n",
              "    display: none;\n",
              "    fill: var(--fill-color);\n",
              "    height: 32px;\n",
              "    padding: 0;\n",
              "    width: 32px;\n",
              "  }\n",
              "\n",
              "  .colab-df-quickchart:hover {\n",
              "    background-color: var(--hover-bg-color);\n",
              "    box-shadow: 0 1px 2px rgba(60, 64, 67, 0.3), 0 1px 3px 1px rgba(60, 64, 67, 0.15);\n",
              "    fill: var(--button-hover-fill-color);\n",
              "  }\n",
              "\n",
              "  .colab-df-quickchart-complete:disabled,\n",
              "  .colab-df-quickchart-complete:disabled:hover {\n",
              "    background-color: var(--disabled-bg-color);\n",
              "    fill: var(--disabled-fill-color);\n",
              "    box-shadow: none;\n",
              "  }\n",
              "\n",
              "  .colab-df-spinner {\n",
              "    border: 2px solid var(--fill-color);\n",
              "    border-color: transparent;\n",
              "    border-bottom-color: var(--fill-color);\n",
              "    animation:\n",
              "      spin 1s steps(1) infinite;\n",
              "  }\n",
              "\n",
              "  @keyframes spin {\n",
              "    0% {\n",
              "      border-color: transparent;\n",
              "      border-bottom-color: var(--fill-color);\n",
              "      border-left-color: var(--fill-color);\n",
              "    }\n",
              "    20% {\n",
              "      border-color: transparent;\n",
              "      border-left-color: var(--fill-color);\n",
              "      border-top-color: var(--fill-color);\n",
              "    }\n",
              "    30% {\n",
              "      border-color: transparent;\n",
              "      border-left-color: var(--fill-color);\n",
              "      border-top-color: var(--fill-color);\n",
              "      border-right-color: var(--fill-color);\n",
              "    }\n",
              "    40% {\n",
              "      border-color: transparent;\n",
              "      border-right-color: var(--fill-color);\n",
              "      border-top-color: var(--fill-color);\n",
              "    }\n",
              "    60% {\n",
              "      border-color: transparent;\n",
              "      border-right-color: var(--fill-color);\n",
              "    }\n",
              "    80% {\n",
              "      border-color: transparent;\n",
              "      border-right-color: var(--fill-color);\n",
              "      border-bottom-color: var(--fill-color);\n",
              "    }\n",
              "    90% {\n",
              "      border-color: transparent;\n",
              "      border-bottom-color: var(--fill-color);\n",
              "    }\n",
              "  }\n",
              "</style>\n",
              "\n",
              "  <script>\n",
              "    async function quickchart(key) {\n",
              "      const quickchartButtonEl =\n",
              "        document.querySelector('#' + key + ' button');\n",
              "      quickchartButtonEl.disabled = true;  // To prevent multiple clicks.\n",
              "      quickchartButtonEl.classList.add('colab-df-spinner');\n",
              "      try {\n",
              "        const charts = await google.colab.kernel.invokeFunction(\n",
              "            'suggestCharts', [key], {});\n",
              "      } catch (error) {\n",
              "        console.error('Error during call to suggestCharts:', error);\n",
              "      }\n",
              "      quickchartButtonEl.classList.remove('colab-df-spinner');\n",
              "      quickchartButtonEl.classList.add('colab-df-quickchart-complete');\n",
              "    }\n",
              "    (() => {\n",
              "      let quickchartButtonEl =\n",
              "        document.querySelector('#df-7067367e-0150-4a68-94bf-3fba95342b39 button');\n",
              "      quickchartButtonEl.style.display =\n",
              "        google.colab.kernel.accessAllowed ? 'block' : 'none';\n",
              "    })();\n",
              "  </script>\n",
              "</div>\n",
              "\n",
              "    </div>\n",
              "  </div>\n"
            ],
            "application/vnd.google.colaboratory.intrinsic+json": {
              "type": "dataframe",
              "variable_name": "train_df"
            }
          },
          "metadata": {},
          "execution_count": 39
        }
      ]
    },
    {
      "cell_type": "code",
      "source": [
        "#informacion general sobre el dataset\n",
        "train_df.info()"
      ],
      "metadata": {
        "colab": {
          "base_uri": "https://localhost:8080/"
        },
        "id": "RfOCGYr5RhKu",
        "outputId": "0dc1fd45-b5f9-41e1-dd45-4cddaa6c83bf"
      },
      "execution_count": 40,
      "outputs": [
        {
          "output_type": "stream",
          "name": "stdout",
          "text": [
            "<class 'pandas.core.frame.DataFrame'>\n",
            "RangeIndex: 4930 entries, 0 to 4929\n",
            "Data columns (total 21 columns):\n",
            " #   Column            Non-Null Count  Dtype  \n",
            "---  ------            --------------  -----  \n",
            " 0   ID                4930 non-null   int64  \n",
            " 1   gender            4930 non-null   object \n",
            " 2   SeniorCitizen     4930 non-null   int64  \n",
            " 3   Partner           4930 non-null   object \n",
            " 4   Dependents        4930 non-null   object \n",
            " 5   tenure            4883 non-null   float64\n",
            " 6   PhoneService      4930 non-null   object \n",
            " 7   MultipleLines     4930 non-null   object \n",
            " 8   InternetService   4872 non-null   object \n",
            " 9   OnlineSecurity    4872 non-null   object \n",
            " 10  OnlineBackup      4872 non-null   object \n",
            " 11  DeviceProtection  4872 non-null   object \n",
            " 12  TechSupport       4872 non-null   object \n",
            " 13  StreamingTV       4872 non-null   object \n",
            " 14  StreamingMovies   4872 non-null   object \n",
            " 15  Contract          4930 non-null   object \n",
            " 16  PaperlessBilling  4930 non-null   object \n",
            " 17  PaymentMethod     4930 non-null   object \n",
            " 18  MonthlyCharges    4840 non-null   float64\n",
            " 19  TotalCharges      4923 non-null   float64\n",
            " 20  Churn             4930 non-null   object \n",
            "dtypes: float64(3), int64(2), object(16)\n",
            "memory usage: 809.0+ KB\n"
          ]
        }
      ]
    },
    {
      "cell_type": "code",
      "source": [
        "#verificamos los valores nulos dentro de nuestro dataset\n",
        "print(train_df.isnull().sum())"
      ],
      "metadata": {
        "colab": {
          "base_uri": "https://localhost:8080/"
        },
        "id": "__4U8XSGRm6G",
        "outputId": "6530012e-f547-4253-9433-cc107526b23a"
      },
      "execution_count": 41,
      "outputs": [
        {
          "output_type": "stream",
          "name": "stdout",
          "text": [
            "ID                   0\n",
            "gender               0\n",
            "SeniorCitizen        0\n",
            "Partner              0\n",
            "Dependents           0\n",
            "tenure              47\n",
            "PhoneService         0\n",
            "MultipleLines        0\n",
            "InternetService     58\n",
            "OnlineSecurity      58\n",
            "OnlineBackup        58\n",
            "DeviceProtection    58\n",
            "TechSupport         58\n",
            "StreamingTV         58\n",
            "StreamingMovies     58\n",
            "Contract             0\n",
            "PaperlessBilling     0\n",
            "PaymentMethod        0\n",
            "MonthlyCharges      90\n",
            "TotalCharges         7\n",
            "Churn                0\n",
            "dtype: int64\n"
          ]
        }
      ]
    },
    {
      "cell_type": "markdown",
      "source": [
        "### 2.1 Imputación de Valores Nulos\n",
        "\n",
        "Para manejar los valores nulos en el dataset, utilizamos la mediana o valores predeterminados adecuados. Esto se realiza de la siguiente manera:\n",
        "\n",
        "- **Duración del Cliente (`tenure`):** Se imputa con la mediana de la columna.\n",
        "- **Servicio de Internet (`InternetService`):** Se imputa con 'No' para aquellos clientes que no tienen un servicio de internet especificado.\n",
        "- **Servicios Relacionados con Internet:** Las columnas como `OnlineSecurity`, `OnlineBackup`, `DeviceProtection`, `TechSupport`, `StreamingTV` y `StreamingMovies` se imputan con 'No'.\n",
        "- **Cargos Mensuales (`MonthlyCharges`):** Se imputa con la mediana de la columna.\n",
        "- **Cargos Totales (`TotalCharges`):** Se imputa calculando el producto de `tenure` y `MonthlyCharges` para aquellos valores que faltan.\n"
      ],
      "metadata": {
        "id": "r1YizFOJWWhl"
      }
    },
    {
      "cell_type": "code",
      "source": [
        "#imputacion de valores nulos\n",
        "train_df['tenure'].fillna(train_df['tenure'].median(), inplace=True)\n",
        "train_df['InternetService'].fillna('No', inplace=True)\n",
        "\n",
        "cols_related_to_internet = ['OnlineSecurity', 'OnlineBackup', 'DeviceProtection', 'TechSupport', 'StreamingTV', 'StreamingMovies']\n",
        "for col in cols_related_to_internet:\n",
        "    train_df[col].fillna('No', inplace=True)\n"
      ],
      "metadata": {
        "id": "zg-rwqqTWfAN"
      },
      "execution_count": 42,
      "outputs": []
    },
    {
      "cell_type": "code",
      "source": [
        "train_df['MonthlyCharges'].fillna(train_df['MonthlyCharges'].median(), inplace=True)\n",
        "train_df['TotalCharges'].fillna(train_df['tenure'] * train_df['MonthlyCharges'], inplace=True)\n",
        "\n"
      ],
      "metadata": {
        "id": "fXRrosXzWhwG"
      },
      "execution_count": 43,
      "outputs": []
    },
    {
      "cell_type": "code",
      "source": [
        "#Verificar valores nulos despues de la imputacion de valores1\n",
        "null_values_after = train_df.isnull().sum()\n",
        "print(null_values_after)\n"
      ],
      "metadata": {
        "colab": {
          "base_uri": "https://localhost:8080/"
        },
        "id": "2xLdLrO4WkHN",
        "outputId": "71480161-8328-43e6-fb0a-ed3ac9584491"
      },
      "execution_count": 44,
      "outputs": [
        {
          "output_type": "stream",
          "name": "stdout",
          "text": [
            "ID                  0\n",
            "gender              0\n",
            "SeniorCitizen       0\n",
            "Partner             0\n",
            "Dependents          0\n",
            "tenure              0\n",
            "PhoneService        0\n",
            "MultipleLines       0\n",
            "InternetService     0\n",
            "OnlineSecurity      0\n",
            "OnlineBackup        0\n",
            "DeviceProtection    0\n",
            "TechSupport         0\n",
            "StreamingTV         0\n",
            "StreamingMovies     0\n",
            "Contract            0\n",
            "PaperlessBilling    0\n",
            "PaymentMethod       0\n",
            "MonthlyCharges      0\n",
            "TotalCharges        0\n",
            "Churn               0\n",
            "dtype: int64\n"
          ]
        }
      ]
    },
    {
      "cell_type": "markdown",
      "source": [
        "### 2.2 Detección de Outliers\n",
        "\n",
        "Visualizamos los outliers en variables clave utilizando boxplots. Esto nos permite identificar valores atípicos en las siguientes columnas:\n",
        "\n",
        "- **Duración del Cliente (`tenure`):** Representa la cantidad de meses que el cliente ha estado con la empresa.\n",
        "- **Cargos Mensuales (`MonthlyCharges`):** Muestra el monto que el cliente paga mensualmente.\n",
        "- **Cargos Totales (`TotalCharges`):** Indica el monto total facturado al cliente durante su relación con la empresa.\n",
        "\n",
        "Los boxplots proporcionan una representación visual de los valores extremos que pueden influir en el análisis y la modelización.\n"
      ],
      "metadata": {
        "id": "f0dsC_tpWvXH"
      }
    },
    {
      "cell_type": "code",
      "source": [
        "# visualizar los outliers\n",
        "fig, axes = plt.subplots(1, 3, figsize=(18, 6))\n",
        "\n",
        "sns.boxplot(data=train_df, y='tenure', ax=axes[0])\n",
        "axes[0].set_title('Boxplot de Tenure')\n",
        "\n",
        "sns.boxplot(data=train_df, y='MonthlyCharges', ax=axes[1])\n",
        "axes[1].set_title('Boxplot de MonthlyCharges')\n",
        "\n",
        "sns.boxplot(data=train_df, y='TotalCharges', ax=axes[2])\n",
        "axes[2].set_title('Boxplot de TotalCharges')\n",
        "\n",
        "plt.show()\n"
      ],
      "metadata": {
        "colab": {
          "base_uri": "https://localhost:8080/",
          "height": 371
        },
        "id": "iSG-n5XTWwBO",
        "outputId": "01d62814-a871-4497-f20e-692cb5862210"
      },
      "execution_count": 45,
      "outputs": [
        {
          "output_type": "display_data",
          "data": {
            "text/plain": [
              "<Figure size 1800x600 with 3 Axes>"
            ],
            "image/png": "[encoded data removed]"
          },
          "metadata": {}
        }
      ]
    },
    {
      "cell_type": "markdown",
      "source": [
        "### 2.3 Transformación de Variables Categóricas\n",
        "\n",
        "Convertimos las variables categóricas en variables numéricas utilizando **One-Hot Encoding**. Este método crea columnas binarias (0 o 1) para cada categoría de las variables categóricas. En nuestro caso, se aplicó One-Hot Encoding a las siguientes columnas:\n",
        "\n",
        "- **Género (`gender`)**\n",
        "- **Pareja (`Partner`)**\n",
        "- **Dependientes (`Dependents`)**\n",
        "- **Servicio Telefónico (`PhoneService`)**\n",
        "- **Líneas Múltiples (`MultipleLines`)**\n",
        "- **Servicio de Internet (`InternetService`)**\n",
        "- **Seguridad en Línea (`OnlineSecurity`)**\n",
        "- **Respaldo en Línea (`OnlineBackup`)**\n",
        "- **Protección de Dispositivos (`DeviceProtection`)**\n",
        "- **Soporte Técnico (`TechSupport`)**\n",
        "- **TV en Streaming (`StreamingTV`)**\n",
        "- **Películas en Streaming (`StreamingMovies`)**\n",
        "- **Contrato (`Contract`)**\n",
        "- **Facturación Sin Papel (`PaperlessBilling`)**\n",
        "- **Método de Pago (`PaymentMethod`)**\n",
        "\n",
        "El uso de One-Hot Encoding permite que las variables categóricas sean interpretadas adecuadamente por los modelos de aprendizaje automático, que requieren entradas numéricas.\n"
      ],
      "metadata": {
        "id": "_jeWHszuXJsl"
      }
    },
    {
      "cell_type": "code",
      "source": [
        "# variables categoricas -> a numericas\n",
        "train_df_encoded = pd.get_dummies(train_df, columns=[\n",
        "    'gender', 'Partner', 'Dependents', 'PhoneService', 'MultipleLines',\n",
        "    'InternetService', 'OnlineSecurity', 'OnlineBackup', 'DeviceProtection',\n",
        "    'TechSupport', 'StreamingTV', 'StreamingMovies', 'Contract',\n",
        "    'PaperlessBilling', 'PaymentMethod'], drop_first=True)\n",
        "\n",
        "print(train_df_encoded.head())"
      ],
      "metadata": {
        "colab": {
          "base_uri": "https://localhost:8080/"
        },
        "id": "Cik2Yq9GXSDf",
        "outputId": "49b3ed9d-580d-47af-ba14-ba8f8dd02fab"
      },
      "execution_count": 46,
      "outputs": [
        {
          "output_type": "stream",
          "name": "stdout",
          "text": [
            "     ID  SeniorCitizen  tenure  MonthlyCharges  TotalCharges Churn  \\\n",
            "0  5726              0     5.0           80.20        384.25    No   \n",
            "1  5510              1     3.0           86.85        220.95   Yes   \n",
            "2  1272              0     3.0           75.15        216.75   Yes   \n",
            "3  3577              0    60.0           80.55       4847.05    No   \n",
            "4  6546              0    12.0           98.90       1120.95   Yes   \n",
            "\n",
            "   gender_Male  Partner_Yes  Dependents_Yes  PhoneService_Yes  ...  \\\n",
            "0        False        False           False              True  ...   \n",
            "1        False        False           False              True  ...   \n",
            "2        False         True           False              True  ...   \n",
            "3        False        False           False              True  ...   \n",
            "4        False        False           False              True  ...   \n",
            "\n",
            "   StreamingTV_No internet service  StreamingTV_Yes  \\\n",
            "0                            False             True   \n",
            "1                            False             True   \n",
            "2                            False            False   \n",
            "3                            False             True   \n",
            "4                            False             True   \n",
            "\n",
            "   StreamingMovies_No internet service  StreamingMovies_Yes  \\\n",
            "0                                False                False   \n",
            "1                                False                False   \n",
            "2                                False                False   \n",
            "3                                False                 True   \n",
            "4                                False                 True   \n",
            "\n",
            "   Contract_One year  Contract_Two year  PaperlessBilling_Yes  \\\n",
            "0              False              False                 False   \n",
            "1              False              False                  True   \n",
            "2              False              False                  True   \n",
            "3               True              False                 False   \n",
            "4              False              False                  True   \n",
            "\n",
            "   PaymentMethod_Credit card (automatic)  PaymentMethod_Electronic check  \\\n",
            "0                                  False                            True   \n",
            "1                                  False                            True   \n",
            "2                                   True                           False   \n",
            "3                                   True                           False   \n",
            "4                                  False                           False   \n",
            "\n",
            "   PaymentMethod_Mailed check  \n",
            "0                       False  \n",
            "1                       False  \n",
            "2                       False  \n",
            "3                       False  \n",
            "4                       False  \n",
            "\n",
            "[5 rows x 32 columns]\n"
          ]
        }
      ]
    },
    {
      "cell_type": "markdown",
      "source": [
        "### 2.4 Manejo del Desbalanceo de Clases"
      ],
      "metadata": {
        "id": "vsgioTqhXbDG"
      }
    },
    {
      "cell_type": "code",
      "source": [
        "\n",
        "churn_distribution = train_df['Churn'].value_counts(normalize=True) * 100\n",
        "print(churn_distribution)\n",
        "\n",
        "\n",
        "sns.countplot(x='Churn', data=train_df)\n",
        "plt.title('Distribución de la variable Churn')\n",
        "plt.show()\n"
      ],
      "metadata": {
        "colab": {
          "base_uri": "https://localhost:8080/",
          "height": 541
        },
        "id": "pMkkahcgXdDO",
        "outputId": "2cd2f6be-de57-44c0-b655-83a5ea4c5e53"
      },
      "execution_count": 47,
      "outputs": [
        {
          "output_type": "stream",
          "name": "stdout",
          "text": [
            "Churn\n",
            "No     73.46856\n",
            "Yes    26.53144\n",
            "Name: proportion, dtype: float64\n"
          ]
        },
        {
          "output_type": "display_data",
          "data": {
            "text/plain": [
              "<Figure size 640x480 with 1 Axes>"
            ],
            "image/png": "[encoded data removed]"
          },
          "metadata": {}
        }
      ]
    },
    {
      "cell_type": "markdown",
      "source": [
        "Utilizamos **SMOTE** para manejar el desbalanceo en las clases."
      ],
      "metadata": {
        "id": "Q06vQBfHXqBP"
      }
    },
    {
      "cell_type": "code",
      "source": [
        "\n",
        "X = train_df_encoded.drop(columns=['Churn'])\n",
        "y = train_df_encoded['Churn']\n",
        "\n",
        "\n",
        "smote = SMOTE(random_state=42)\n",
        "X_resampled, y_resampled = smote.fit_resample(X, y)\n",
        "\n",
        "\n",
        "print(y_resampled.value_counts(normalize=True) * 100)\n"
      ],
      "metadata": {
        "colab": {
          "base_uri": "https://localhost:8080/"
        },
        "id": "DNrP6tuLXvPN",
        "outputId": "768f6a90-20bc-4553-e566-0695852a1def"
      },
      "execution_count": 48,
      "outputs": [
        {
          "output_type": "stream",
          "name": "stdout",
          "text": [
            "Churn\n",
            "No     50.0\n",
            "Yes    50.0\n",
            "Name: proportion, dtype: float64\n"
          ]
        }
      ]
    },
    {
      "cell_type": "markdown",
      "source": [
        "### 2.5 División de Datos y Escalado\n",
        "Dividimos los datos en conjuntos de entrenamiento y prueba, y escalamos las características."
      ],
      "metadata": {
        "id": "MQJHx2JARUYA"
      }
    },
    {
      "cell_type": "code",
      "source": [
        "#Dividimos los datos\n",
        "\n",
        "X_train, X_test, y_train, y_test = train_test_split(X_resampled, y_resampled, test_size=0.3, random_state=42, stratify=y_resampled)\n",
        "\n",
        "#escalado de caracteristicas\n",
        "scaler = StandardScaler()\n",
        "X_train_scaled = scaler.fit_transform(X_train)\n",
        "X_test_scaled = scaler.transform(X_test)\n"
      ],
      "metadata": {
        "id": "LH3RgstleVKW"
      },
      "execution_count": 49,
      "outputs": []
    },
    {
      "cell_type": "markdown",
      "source": [
        "## 3. Modelado\n",
        "Entrenamos y evaluamos un modelo de **regresión logística**."
      ],
      "metadata": {
        "id": "LoEqsgaKRb_Q"
      }
    },
    {
      "cell_type": "code",
      "source": [
        "# Entrenamiento del modelo\n",
        "model = LogisticRegression(random_state=42, max_iter=1000)\n",
        "model.fit(X_train_scaled, y_train)\n",
        "\n",
        "# Predicciones y evaluación\n",
        "y_pred = model.predict(X_test_scaled)\n",
        "\n",
        "print(classification_report(y_test, y_pred))\n",
        "print(confusion_matrix(y_test, y_pred))\n"
      ],
      "metadata": {
        "colab": {
          "base_uri": "https://localhost:8080/"
        },
        "id": "pFdYRbl3evkW",
        "outputId": "f0e18968-1754-4fe7-c25b-1bba0c2695a6"
      },
      "execution_count": 50,
      "outputs": [
        {
          "output_type": "stream",
          "name": "stdout",
          "text": [
            "              precision    recall  f1-score   support\n",
            "\n",
            "          No       0.82      0.83      0.82      1087\n",
            "         Yes       0.83      0.81      0.82      1087\n",
            "\n",
            "    accuracy                           0.82      2174\n",
            "   macro avg       0.82      0.82      0.82      2174\n",
            "weighted avg       0.82      0.82      0.82      2174\n",
            "\n",
            "[[904 183]\n",
            " [203 884]]\n"
          ]
        }
      ]
    },
    {
      "cell_type": "markdown",
      "source": [
        "## 4. Predicción en el Conjunto de Prueba\n",
        "Realizamos predicciones en el conjunto de prueba(test.csv) y preparamos el archivo para la presentación.\n"
      ],
      "metadata": {
        "id": "yYmz_nNgfK24"
      }
    },
    {
      "cell_type": "code",
      "source": [
        "# Cargar el dataset de prueba\n",
        "test_df = pd.read_csv('test.csv')\n"
      ],
      "metadata": {
        "id": "Xf33IsSxfMeP"
      },
      "execution_count": 51,
      "outputs": []
    },
    {
      "cell_type": "code",
      "source": [
        "# Imputación de valores nulos\n",
        "test_df['tenure'].fillna(train_df['tenure'].median(), inplace=True)\n",
        "test_df['InternetService'].fillna('No', inplace=True)\n",
        "for col in cols_related_to_internet:\n",
        "    test_df[col].fillna('No', inplace=True)\n",
        "test_df['MonthlyCharges'].fillna(train_df['MonthlyCharges'].median(), inplace=True)\n",
        "test_df['TotalCharges'].fillna(test_df['tenure'] * test_df['MonthlyCharges'], inplace=True)\n",
        "\n",
        "# Transformación de variables categoricas a numericas en test.csv\n",
        "test_df_encoded = pd.get_dummies(test_df, columns=[\n",
        "    'gender', 'Partner', 'Dependents', 'PhoneService', 'MultipleLines',\n",
        "    'InternetService', 'OnlineSecurity', 'OnlineBackup', 'DeviceProtection',\n",
        "    'TechSupport', 'StreamingTV', 'StreamingMovies', 'Contract',\n",
        "    'PaperlessBilling', 'PaymentMethod'], drop_first=True)\n",
        "\n",
        "#aseguramos que las columnas del test.csv coincidad con las del train.csv\n",
        "test_df_encoded = test_df_encoded.reindex(columns=X_resampled.columns, fill_value=0)\n",
        "X_test_scaled = scaler.transform(test_df_encoded)\n"
      ],
      "metadata": {
        "id": "0z4_9LakfPxm"
      },
      "execution_count": 52,
      "outputs": []
    },
    {
      "cell_type": "code",
      "source": [
        "#realizamos predicciones\n",
        "y_test_pred = model.predict(X_test_scaled)\n"
      ],
      "metadata": {
        "id": "Zylp--SJfQ-P"
      },
      "execution_count": 53,
      "outputs": []
    },
    {
      "cell_type": "code",
      "source": [
        "#preramos el archivo de presentacion para kaggle\n",
        "submission_df = pd.DataFrame({\n",
        "    'ID': test_df['ID'],\n",
        "    'Churn': y_test_pred\n",
        "})\n",
        "\n",
        "submission_df.to_csv('submission.csv', index=False)\n"
      ],
      "metadata": {
        "id": "j_Zph7MUfUY_"
      },
      "execution_count": 54,
      "outputs": []
    },
    {
      "cell_type": "markdown",
      "source": [
        "## 5. Conclusiones\n",
        "Este notebook ha cubierto el proceso de predicción de la deserción de clientes utilizando un modelo de regresión logística. Hemos abordado la imputación de valores nulos, el manejo del desbalanceo de clases, la transformación de variables categóricas, y la evaluación del modelo.\n"
      ],
      "metadata": {
        "id": "8khACj5FSPnq"
      }
    }
  ]
}